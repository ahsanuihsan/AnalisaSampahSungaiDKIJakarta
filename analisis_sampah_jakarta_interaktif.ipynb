{
 "cells": [
  {
   "cell_type": "markdown",
   "metadata": {},
   "source": [
    "# Analisis Interaktif Volume Sampah Sungai DKI Jakarta\n",
    "\n",
    "Proyek ini menganalisis data volume sampah sungai di DKI Jakarta dari Januari hingga Mei 2025 menggunakan dataset `RataRataVolumeSampahSungaiDKIJakarta.csv`. Dengan **Pandas** untuk pengolahan data dan **Plotly** untuk visualisasi interaktif, notebook ini menyediakan wawasan tentang pola sampah di berbagai kecamatan dan wilayah administratif.\n",
    "\n",
    "## Dataset\n",
    "- **periode_data**: Periode (YYYYMM, e.g., 202401)\n",
    "- **wilayah**: Wilayah administratif (e.g., KOTA ADM. JAKARTA PUSAT)\n",
    "- **kecamatan**: Nama kecamatan\n",
    "- **volume_sampah**: Total volume sampah (ton)\n",
    "- **total_sampah_residu**: Total sampah residu (ton)\n",
    "- **rata_rata**: Rata-rata volume sampah per hari (ton)\n",
    "\n",
    "## Analisis\n",
    "1. Tren Volume Sampah per Wilayah\n",
    "2. Top 5 Kecamatan dengan Volume Tertinggi\n",
    "3. Perbandingan Volume Sampah Antar Wilayah\n",
    "4. Korelasi Volume Sampah dan Residu\n",
    "5. Pola Musiman di Kecamatan Jagakarsa\n",
    "\n",
    "## Fitur Interaktif\n",
    "- 🖱️ Hover untuk detail data\n",
    "- 🔍 Zoom dan pan plot\n",
    "- 🎚️ Toggle legenda untuk filter\n",
    "- 📥 Ekspor plot ke PNG/HTML"
   ]
  },
  {
   "cell_type": "code",
   "execution_count": 1,
   "metadata": {},
   "outputs": [
    {
     "ename": "ModuleNotFoundError",
     "evalue": "No module named 'plotly'",
     "output_type": "error",
     "traceback": [
      "\u001b[31m---------------------------------------------------------------------------\u001b[39m",
      "\u001b[31mModuleNotFoundError\u001b[39m                       Traceback (most recent call last)",
      "\u001b[36mCell\u001b[39m\u001b[36m \u001b[39m\u001b[32mIn[1]\u001b[39m\u001b[32m, line 3\u001b[39m\n\u001b[32m      1\u001b[39m \u001b[38;5;66;03m# Import library\u001b[39;00m\n\u001b[32m      2\u001b[39m \u001b[38;5;28;01mimport\u001b[39;00m\u001b[38;5;250m \u001b[39m\u001b[34;01mpandas\u001b[39;00m\u001b[38;5;250m \u001b[39m\u001b[38;5;28;01mas\u001b[39;00m\u001b[38;5;250m \u001b[39m\u001b[34;01mpd\u001b[39;00m\n\u001b[32m----> \u001b[39m\u001b[32m3\u001b[39m \u001b[38;5;28;01mimport\u001b[39;00m\u001b[38;5;250m \u001b[39m\u001b[34;01mplotly\u001b[39;00m\u001b[34;01m.\u001b[39;00m\u001b[34;01mexpress\u001b[39;00m\u001b[38;5;250m \u001b[39m\u001b[38;5;28;01mas\u001b[39;00m\u001b[38;5;250m \u001b[39m\u001b[34;01mpx\u001b[39;00m\n\u001b[32m      4\u001b[39m \u001b[38;5;28;01mimport\u001b[39;00m\u001b[38;5;250m \u001b[39m\u001b[34;01mplotly\u001b[39;00m\u001b[34;01m.\u001b[39;00m\u001b[34;01mgraph_objects\u001b[39;00m\u001b[38;5;250m \u001b[39m\u001b[38;5;28;01mas\u001b[39;00m\u001b[38;5;250m \u001b[39m\u001b[34;01mgo\u001b[39;00m\n\u001b[32m      6\u001b[39m \u001b[38;5;66;03m# Memuat dataset\u001b[39;00m\n",
      "\u001b[31mModuleNotFoundError\u001b[39m: No module named 'plotly'"
     ]
    }
   ],
   "source": [
    "# Import library\n",
    "import pandas as pd\n",
    "import plotly.express as px\n",
    "import plotly.graph_objects as go\n",
    "\n",
    "# Memuat dataset\n",
    "df = pd.read_csv('RataRataVolumeSampahSungaiDKIJakarta.csv')\n",
    "\n",
    "# Pembersihan data\n",
    "df['periode_data'] = pd.to_datetime(df['periode_data'], format='%Y%m')\n",
    "df = df.dropna()\n",
    "\n",
    "# Standardisasi nama wilayah (menghapus variasi penulisan)\n",
    "df['wilayah'] = df['wilayah'].str.replace('Kota Adm.', 'KOTA ADM.', case=False)\n",
    "df['wilayah'] = df['wilayah'].str.strip()"
   ]
  },
  {
   "cell_type": "markdown",
   "metadata": {},
   "source": [
    "## 1. Tren Volume Sampah per Wilayah\n",
    "Visualisasi tren rata-rata volume sampah per wilayah administratif menggunakan line plot interaktif."
   ]
  },
  {
   "cell_type": "code",
   "execution_count": null,
   "metadata": {},
   "outputs": [],
   "source": [
    "# Mengelompokkan data\n",
    "trend_data = df.groupby(['periode_data', 'wilayah'])['rata_rata'].mean().reset_index()\n",
    "\n",
    "# Membuat line plot\n",
    "fig1 = px.line(trend_data, x='periode_data', y='rata_rata', color='wilayah',\n",
    "               title='Tren Rata-rata Volume Sampah per Wilayah (Jan-Mei 2025)',\n",
    "               labels={'periode_data': 'Periode', 'rata_rata': 'Rata-rata Volume Sampah (ton)', 'wilayah': 'Wilayah'})\n",
    "fig1.update_layout(legend=dict(orientation='h', yanchor='bottom', y=1.02, xanchor='right', x=1),\n",
    "                   xaxis_title='Periode', yaxis_title='Rata-rata Volume Sampah (ton)')\n",
    "fig1.show()\n",
    "\n",
    "# Opsional: Simpan ke HTML\n",
    "# fig1.write_html('tren_volume_sampah.html')"
   ]
  },
  {
   "cell_type": "markdown",
   "metadata": {},
   "source": [
    "## 2. Top 5 Kecamatan dengan Volume Sampah Tertinggi\n",
    "Mengidentifikasi 5 kecamatan dengan rata-rata volume sampah tertinggi per periode menggunakan bar plot interaktif."
   ]
  },
  {
   "cell_type": "code",
   "execution_count": null,
   "metadata": {},
   "outputs": [],
   "source": [
    "# Mengelompokkan data\n",
    "top_kecamatan = df.groupby(['periode_data', 'kecamatan'])['rata_rata'].mean().reset_index()\n",
    "top_5 = top_kecamatan.groupby('periode_data').apply(lambda x: x.nlargest(5, 'rata_rata')).reset_index(drop=True)\n",
    "\n",
    "# Membuat bar plot\n",
    "fig2 = px.bar(top_5, x='periode_data', y='rata_rata', color='kecamatan', text='kecamatan',\n",
    "              title='5 Kecamatan dengan Rata-rata Volume Sampah Tertinggi per Periode',\n",
    "              labels={'periode_data': 'Periode', 'rata_rata': 'Rata-rata Volume Sampah (ton)', 'kecamatan': 'Kecamatan'})\n",
    "fig2.update_traces(textposition='auto')\n",
    "fig2.update_layout(legend=dict(orientation='h', yanchor='bottom', y=1.02, xanchor='right', x=1),\n",
    "                   xaxis_title='Periode', yaxis_title='Rata-rata Volume Sampah (ton)')\n",
    "fig2.show()\n",
    "\n",
    "# Opsional: Simpan ke HTML\n",
    "# fig2.write_html('top_kecamatan_sampah.html')"
   ]
  },
  {
   "cell_type": "markdown",
   "metadata": {},
   "source": [
    "## 3. Perbandingan Volume Sampah Antar Wilayah\n",
    "Membandingkan distribusi rata-rata volume sampah antar wilayah menggunakan box plot interaktif."
   ]
  },
  {
   "cell_type": "code",
   "execution_count": null,
   "metadata": {},
   "outputs": [],
   "source": [
    "# Membuat box plot\n",
    "fig3 = px.box(df, x='wilayah', y='rata_rata', color='wilayah',\n",
    "              title='Distribusi Rata-rata Volume Sampah per Wilayah (Jan-Mei 2025)',\n",
    "              labels={'wilayah': 'Wilayah', 'rata_rata': 'Rata-rata Volume Sampah (ton)'})\n",
    "fig3.update_layout(xaxis_title='Wilayah', yaxis_title='Rata-rata Volume Sampah (ton)',\n",
    "                   showlegend=False)\n",
    "fig3.show()\n",
    "\n",
    "# Opsional: Simpan ke HTML\n",
    "# fig3.write_html('perbandingan_wilayah.html')"
   ]
  },
  {
   "cell_type": "markdown",
   "metadata": {},
   "source": [
    "## 4. Korelasi Volume Sampah dan Total Sampah Residu\n",
    "Menganalisis hubungan antara volume sampah dan total sampah residu menggunakan scatter plot interaktif."
   ]
  },
  {
   "cell_type": "code",
   "execution_count": null,
   "metadata": {},
   "outputs": [],
   "source": [
    "# Menghitung korelasi\n",
    "correlation = df[['volume_sampah', 'total_sampah_residu']].corr().loc['volume_sampah', 'total_sampah_residu']\n",
    "\n",
    "# Membuat scatter plot\n",
    "fig4 = px.scatter(df, x='volume_sampah', y='total_sampah_residu', trendline='ols',\n",
    "                  title=f'Korelasi Volume Sampah vs Total Sampah Residu (Korelasi: {correlation:.2f})',\n",
    "                  labels={'volume_sampah': 'Volume Sampah (ton)', 'total_sampah_residu': 'Total Sampah Residu (ton)'})\n",
    "fig4.show()\n",
    "\n",
    "# Opsional: Simpan ke HTML\n",
    "# fig4.write_html('korelasi_sampah.html')"
   ]
  },
  {
   "cell_type": "markdown",
   "metadata": {},
   "source": [
    "## 5. Pola Musiman di Kecamatan Jagakarsa\n",
    "Menganalisis fluktuasi rata-rata volume sampah di kecamatan Jagakarsa menggunakan line plot interaktif."
   ]
  },
  {
   "cell_type": "code",
   "execution_count": null,
   "metadata": {},
   "outputs": [],
   "source": [
    "# Memfilter data untuk Jagakarsa\n",
    "jagakarsa_data = df[df['kecamatan'] == 'Jagakarsa']\n",
    "\n",
    "# Membuat line plot\n",
    "fig5 = px.line(jagakarsa_data, x='periode_data', y='rata_rata', markers=True,\n",
    "               title='Pola Rata-rata Volume Sampah di Kecamatan Jagakarsa (Jan-Mei 2025)',\n",
    "               labels={'periode_data': 'Periode', 'rata_rata': 'Rata-rata Volume Sampah (ton)'})\n",
    "fig5.update_traces(line=dict(width=2), marker=dict(size=8))\n",
    "fig5.update_layout(xaxis_title='Periode', yaxis_title='Rata-rata Volume Sampah (ton)')\n",
    "fig5.show()\n",
    "\n",
    "# Opsional: Simpan ke HTML\n",
    "# fig5.write_html('pola_musiman_jagakarsa.html')"
   ]
  }
 ],
 "metadata": {
  "kernelspec": {
   "display_name": "energi_hijau",
   "language": "python",
   "name": "python3"
  },
  "language_info": {
   "codemirror_mode": {
    "name": "ipython",
    "version": 3
   },
   "file_extension": ".py",
   "mimetype": "text/x-python",
   "name": "python",
   "nbconvert_exporter": "python",
   "pygments_lexer": "ipython3",
   "version": "3.12.11"
  }
 },
 "nbformat": 4,
 "nbformat_minor": 4
}
